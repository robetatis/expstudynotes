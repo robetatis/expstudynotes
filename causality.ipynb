{
 "cells": [
  {
   "cell_type": "markdown",
   "metadata": {},
   "source": [
    "### **Causal analysis**\n",
    "\n",
    "Based on https://bookdown.org/paul/applied-causal-analysis/introconcepts.html\n",
    "\n",
    "#### **Basic concepts**\n",
    "\n",
    "- Causation\n",
    "- Equifinality\n",
    "- Temporal bond cause-effect"
   ]
  }
 ],
 "metadata": {
  "language_info": {
   "name": "python"
  }
 },
 "nbformat": 4,
 "nbformat_minor": 2
}
